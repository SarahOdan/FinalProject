{
 "cells": [
  {
   "cell_type": "markdown",
   "id": "23986c37",
   "metadata": {},
   "source": [
    "# Google Play Store Apps"
   ]
  },
  {
   "cell_type": "markdown",
   "id": "f3a05320",
   "metadata": {},
   "source": [
    "The Objective of this project is to detect which app that will have large number of install based on many features such as (Rating , Category ,Size , Type) , \n",
    "- This Project is Done By Sarah Alodan\n",
    "- This Project has 3 parts :\n",
    "**Part1 : EDA\n",
    "**Part2 : Visulization\n",
    "**Part3 : Modeling"
   ]
  },
  {
   "cell_type": "markdown",
   "id": "65099b2a",
   "metadata": {},
   "source": [
    "### DataSet"
   ]
  },
  {
   "cell_type": "markdown",
   "id": "cac2383b",
   "metadata": {},
   "source": [
    "The dataset is provided in .csv format. It contains 10,842 records and  13 columns.\n",
    "The columns are :\n",
    "   - **App**: Name of app\n",
    "   - **Rating**: Rating average (0 to 5)\n",
    "   - **Reviews**: Number of reviews\n",
    "   - **Size**: Size of app (kb or mb)\n",
    "   - **Installs**: Number of downloads\n",
    "   - **Type**: Free or Paid\n",
    "   - **Price**: Price of app\n",
    "   - **Content Rating**: Everyone, Teen,...\n",
    "   - **Category**: Category of app\n",
    "   - **Genres**: 1 app can belong to many Categories\n",
    "   - **Last Updated**: Last update app (date)\n",
    "   - **Current Ver**: Current Version (x.x.x)\n",
    "   - **Android Ver**: Android Version (x.x.x)"
   ]
  },
  {
   "cell_type": "markdown",
   "id": "7fb136f0",
   "metadata": {},
   "source": [
    "## Part1 : EDA "
   ]
  },
  {
   "cell_type": "code",
   "execution_count": 1,
   "id": "504eda0b",
   "metadata": {},
   "outputs": [],
   "source": [
    "# importing the necessary libraraies\n",
    "import pandas as pd\n",
    "import numpy as np\n",
    "\n",
    "# visualization imports\n",
    "import matplotlib.pyplot as plt\n",
    "import seaborn as sns\n",
    "import datetime as dt\n",
    "\n",
    "%matplotlib inline\n",
    "\n",
    "# modeling imports\n",
    "from sklearn.linear_model import LogisticRegression\n",
    "from sklearn.model_selection import train_test_split\n",
    "from sklearn.metrics import precision_score, recall_score, accuracy_score, roc_auc_score\n",
    "from sklearn.metrics import confusion_matrix\n",
    "from sklearn.preprocessing import StandardScaler"
   ]
  },
  {
   "cell_type": "code",
   "execution_count": 2,
   "id": "5ba6b878",
   "metadata": {},
   "outputs": [
    {
     "data": {
      "text/html": [
       "<div>\n",
       "<style scoped>\n",
       "    .dataframe tbody tr th:only-of-type {\n",
       "        vertical-align: middle;\n",
       "    }\n",
       "\n",
       "    .dataframe tbody tr th {\n",
       "        vertical-align: top;\n",
       "    }\n",
       "\n",
       "    .dataframe thead th {\n",
       "        text-align: right;\n",
       "    }\n",
       "</style>\n",
       "<table border=\"1\" class=\"dataframe\">\n",
       "  <thead>\n",
       "    <tr style=\"text-align: right;\">\n",
       "      <th></th>\n",
       "      <th>App</th>\n",
       "      <th>Category</th>\n",
       "      <th>Rating</th>\n",
       "      <th>Reviews</th>\n",
       "      <th>Size</th>\n",
       "      <th>Installs</th>\n",
       "      <th>Type</th>\n",
       "      <th>Price</th>\n",
       "      <th>Content Rating</th>\n",
       "      <th>Genres</th>\n",
       "      <th>Last Updated</th>\n",
       "      <th>Current Ver</th>\n",
       "      <th>Android Ver</th>\n",
       "    </tr>\n",
       "  </thead>\n",
       "  <tbody>\n",
       "    <tr>\n",
       "      <th>0</th>\n",
       "      <td>Photo Editor &amp; Candy Camera &amp; Grid &amp; ScrapBook</td>\n",
       "      <td>ART_AND_DESIGN</td>\n",
       "      <td>4.1</td>\n",
       "      <td>159</td>\n",
       "      <td>19M</td>\n",
       "      <td>10,000+</td>\n",
       "      <td>Free</td>\n",
       "      <td>0</td>\n",
       "      <td>Everyone</td>\n",
       "      <td>Art &amp; Design</td>\n",
       "      <td>January 7, 2018</td>\n",
       "      <td>1.0.0</td>\n",
       "      <td>4.0.3 and up</td>\n",
       "    </tr>\n",
       "    <tr>\n",
       "      <th>1</th>\n",
       "      <td>Coloring book moana</td>\n",
       "      <td>ART_AND_DESIGN</td>\n",
       "      <td>3.9</td>\n",
       "      <td>967</td>\n",
       "      <td>14M</td>\n",
       "      <td>500,000+</td>\n",
       "      <td>Free</td>\n",
       "      <td>0</td>\n",
       "      <td>Everyone</td>\n",
       "      <td>Art &amp; Design;Pretend Play</td>\n",
       "      <td>January 15, 2018</td>\n",
       "      <td>2.0.0</td>\n",
       "      <td>4.0.3 and up</td>\n",
       "    </tr>\n",
       "    <tr>\n",
       "      <th>2</th>\n",
       "      <td>U Launcher Lite – FREE Live Cool Themes, Hide ...</td>\n",
       "      <td>ART_AND_DESIGN</td>\n",
       "      <td>4.7</td>\n",
       "      <td>87510</td>\n",
       "      <td>8.7M</td>\n",
       "      <td>5,000,000+</td>\n",
       "      <td>Free</td>\n",
       "      <td>0</td>\n",
       "      <td>Everyone</td>\n",
       "      <td>Art &amp; Design</td>\n",
       "      <td>August 1, 2018</td>\n",
       "      <td>1.2.4</td>\n",
       "      <td>4.0.3 and up</td>\n",
       "    </tr>\n",
       "    <tr>\n",
       "      <th>3</th>\n",
       "      <td>Sketch - Draw &amp; Paint</td>\n",
       "      <td>ART_AND_DESIGN</td>\n",
       "      <td>4.5</td>\n",
       "      <td>215644</td>\n",
       "      <td>25M</td>\n",
       "      <td>50,000,000+</td>\n",
       "      <td>Free</td>\n",
       "      <td>0</td>\n",
       "      <td>Teen</td>\n",
       "      <td>Art &amp; Design</td>\n",
       "      <td>June 8, 2018</td>\n",
       "      <td>Varies with device</td>\n",
       "      <td>4.2 and up</td>\n",
       "    </tr>\n",
       "    <tr>\n",
       "      <th>4</th>\n",
       "      <td>Pixel Draw - Number Art Coloring Book</td>\n",
       "      <td>ART_AND_DESIGN</td>\n",
       "      <td>4.3</td>\n",
       "      <td>967</td>\n",
       "      <td>2.8M</td>\n",
       "      <td>100,000+</td>\n",
       "      <td>Free</td>\n",
       "      <td>0</td>\n",
       "      <td>Everyone</td>\n",
       "      <td>Art &amp; Design;Creativity</td>\n",
       "      <td>June 20, 2018</td>\n",
       "      <td>1.1</td>\n",
       "      <td>4.4 and up</td>\n",
       "    </tr>\n",
       "  </tbody>\n",
       "</table>\n",
       "</div>"
      ],
      "text/plain": [
       "                                                 App        Category  Rating  \\\n",
       "0     Photo Editor & Candy Camera & Grid & ScrapBook  ART_AND_DESIGN     4.1   \n",
       "1                                Coloring book moana  ART_AND_DESIGN     3.9   \n",
       "2  U Launcher Lite – FREE Live Cool Themes, Hide ...  ART_AND_DESIGN     4.7   \n",
       "3                              Sketch - Draw & Paint  ART_AND_DESIGN     4.5   \n",
       "4              Pixel Draw - Number Art Coloring Book  ART_AND_DESIGN     4.3   \n",
       "\n",
       "  Reviews  Size     Installs  Type Price Content Rating  \\\n",
       "0     159   19M      10,000+  Free     0       Everyone   \n",
       "1     967   14M     500,000+  Free     0       Everyone   \n",
       "2   87510  8.7M   5,000,000+  Free     0       Everyone   \n",
       "3  215644   25M  50,000,000+  Free     0           Teen   \n",
       "4     967  2.8M     100,000+  Free     0       Everyone   \n",
       "\n",
       "                      Genres      Last Updated         Current Ver  \\\n",
       "0               Art & Design   January 7, 2018               1.0.0   \n",
       "1  Art & Design;Pretend Play  January 15, 2018               2.0.0   \n",
       "2               Art & Design    August 1, 2018               1.2.4   \n",
       "3               Art & Design      June 8, 2018  Varies with device   \n",
       "4    Art & Design;Creativity     June 20, 2018                 1.1   \n",
       "\n",
       "    Android Ver  \n",
       "0  4.0.3 and up  \n",
       "1  4.0.3 and up  \n",
       "2  4.0.3 and up  \n",
       "3    4.2 and up  \n",
       "4    4.4 and up  "
      ]
     },
     "execution_count": 2,
     "metadata": {},
     "output_type": "execute_result"
    }
   ],
   "source": [
    "## Loading Data\n",
    "Data = pd.read_csv('googleplaystore.csv')\n",
    "\n",
    "## Observe 5 First Rows & Last 5 Rows\n",
    "Data.head()\n"
   ]
  },
  {
   "cell_type": "code",
   "execution_count": 3,
   "id": "03568fa6",
   "metadata": {},
   "outputs": [
    {
     "data": {
      "text/html": [
       "<div>\n",
       "<style scoped>\n",
       "    .dataframe tbody tr th:only-of-type {\n",
       "        vertical-align: middle;\n",
       "    }\n",
       "\n",
       "    .dataframe tbody tr th {\n",
       "        vertical-align: top;\n",
       "    }\n",
       "\n",
       "    .dataframe thead th {\n",
       "        text-align: right;\n",
       "    }\n",
       "</style>\n",
       "<table border=\"1\" class=\"dataframe\">\n",
       "  <thead>\n",
       "    <tr style=\"text-align: right;\">\n",
       "      <th></th>\n",
       "      <th>App</th>\n",
       "      <th>Category</th>\n",
       "      <th>Rating</th>\n",
       "      <th>Reviews</th>\n",
       "      <th>Size</th>\n",
       "      <th>Installs</th>\n",
       "      <th>Type</th>\n",
       "      <th>Price</th>\n",
       "      <th>Content Rating</th>\n",
       "      <th>Genres</th>\n",
       "      <th>Last Updated</th>\n",
       "      <th>Current Ver</th>\n",
       "      <th>Android Ver</th>\n",
       "    </tr>\n",
       "  </thead>\n",
       "  <tbody>\n",
       "    <tr>\n",
       "      <th>10836</th>\n",
       "      <td>Sya9a Maroc - FR</td>\n",
       "      <td>FAMILY</td>\n",
       "      <td>4.5</td>\n",
       "      <td>38</td>\n",
       "      <td>53M</td>\n",
       "      <td>5,000+</td>\n",
       "      <td>Free</td>\n",
       "      <td>0</td>\n",
       "      <td>Everyone</td>\n",
       "      <td>Education</td>\n",
       "      <td>July 25, 2017</td>\n",
       "      <td>1.48</td>\n",
       "      <td>4.1 and up</td>\n",
       "    </tr>\n",
       "    <tr>\n",
       "      <th>10837</th>\n",
       "      <td>Fr. Mike Schmitz Audio Teachings</td>\n",
       "      <td>FAMILY</td>\n",
       "      <td>5.0</td>\n",
       "      <td>4</td>\n",
       "      <td>3.6M</td>\n",
       "      <td>100+</td>\n",
       "      <td>Free</td>\n",
       "      <td>0</td>\n",
       "      <td>Everyone</td>\n",
       "      <td>Education</td>\n",
       "      <td>July 6, 2018</td>\n",
       "      <td>1.0</td>\n",
       "      <td>4.1 and up</td>\n",
       "    </tr>\n",
       "    <tr>\n",
       "      <th>10838</th>\n",
       "      <td>Parkinson Exercices FR</td>\n",
       "      <td>MEDICAL</td>\n",
       "      <td>NaN</td>\n",
       "      <td>3</td>\n",
       "      <td>9.5M</td>\n",
       "      <td>1,000+</td>\n",
       "      <td>Free</td>\n",
       "      <td>0</td>\n",
       "      <td>Everyone</td>\n",
       "      <td>Medical</td>\n",
       "      <td>January 20, 2017</td>\n",
       "      <td>1.0</td>\n",
       "      <td>2.2 and up</td>\n",
       "    </tr>\n",
       "    <tr>\n",
       "      <th>10839</th>\n",
       "      <td>The SCP Foundation DB fr nn5n</td>\n",
       "      <td>BOOKS_AND_REFERENCE</td>\n",
       "      <td>4.5</td>\n",
       "      <td>114</td>\n",
       "      <td>Varies with device</td>\n",
       "      <td>1,000+</td>\n",
       "      <td>Free</td>\n",
       "      <td>0</td>\n",
       "      <td>Mature 17+</td>\n",
       "      <td>Books &amp; Reference</td>\n",
       "      <td>January 19, 2015</td>\n",
       "      <td>Varies with device</td>\n",
       "      <td>Varies with device</td>\n",
       "    </tr>\n",
       "    <tr>\n",
       "      <th>10840</th>\n",
       "      <td>iHoroscope - 2018 Daily Horoscope &amp; Astrology</td>\n",
       "      <td>LIFESTYLE</td>\n",
       "      <td>4.5</td>\n",
       "      <td>398307</td>\n",
       "      <td>19M</td>\n",
       "      <td>10,000,000+</td>\n",
       "      <td>Free</td>\n",
       "      <td>0</td>\n",
       "      <td>Everyone</td>\n",
       "      <td>Lifestyle</td>\n",
       "      <td>July 25, 2018</td>\n",
       "      <td>Varies with device</td>\n",
       "      <td>Varies with device</td>\n",
       "    </tr>\n",
       "  </tbody>\n",
       "</table>\n",
       "</div>"
      ],
      "text/plain": [
       "                                                 App             Category  \\\n",
       "10836                               Sya9a Maroc - FR               FAMILY   \n",
       "10837               Fr. Mike Schmitz Audio Teachings               FAMILY   \n",
       "10838                         Parkinson Exercices FR              MEDICAL   \n",
       "10839                  The SCP Foundation DB fr nn5n  BOOKS_AND_REFERENCE   \n",
       "10840  iHoroscope - 2018 Daily Horoscope & Astrology            LIFESTYLE   \n",
       "\n",
       "       Rating Reviews                Size     Installs  Type Price  \\\n",
       "10836     4.5      38                 53M       5,000+  Free     0   \n",
       "10837     5.0       4                3.6M         100+  Free     0   \n",
       "10838     NaN       3                9.5M       1,000+  Free     0   \n",
       "10839     4.5     114  Varies with device       1,000+  Free     0   \n",
       "10840     4.5  398307                 19M  10,000,000+  Free     0   \n",
       "\n",
       "      Content Rating             Genres      Last Updated         Current Ver  \\\n",
       "10836       Everyone          Education     July 25, 2017                1.48   \n",
       "10837       Everyone          Education      July 6, 2018                 1.0   \n",
       "10838       Everyone            Medical  January 20, 2017                 1.0   \n",
       "10839     Mature 17+  Books & Reference  January 19, 2015  Varies with device   \n",
       "10840       Everyone          Lifestyle     July 25, 2018  Varies with device   \n",
       "\n",
       "              Android Ver  \n",
       "10836          4.1 and up  \n",
       "10837          4.1 and up  \n",
       "10838          2.2 and up  \n",
       "10839  Varies with device  \n",
       "10840  Varies with device  "
      ]
     },
     "execution_count": 3,
     "metadata": {},
     "output_type": "execute_result"
    }
   ],
   "source": [
    "Data.tail()"
   ]
  },
  {
   "cell_type": "code",
   "execution_count": 8,
   "id": "d96aee42",
   "metadata": {},
   "outputs": [
    {
     "name": "stdout",
     "output_type": "stream",
     "text": [
      "<class 'pandas.core.frame.DataFrame'>\n",
      "RangeIndex: 10841 entries, 0 to 10840\n",
      "Data columns (total 13 columns):\n",
      " #   Column          Non-Null Count  Dtype  \n",
      "---  ------          --------------  -----  \n",
      " 0   App             10841 non-null  object \n",
      " 1   Category        10841 non-null  object \n",
      " 2   Rating          9367 non-null   float64\n",
      " 3   Reviews         10841 non-null  object \n",
      " 4   Size            10841 non-null  object \n",
      " 5   Installs        10841 non-null  object \n",
      " 6   Type            10840 non-null  object \n",
      " 7   Price           10841 non-null  object \n",
      " 8   Content Rating  10840 non-null  object \n",
      " 9   Genres          10841 non-null  object \n",
      " 10  Last Updated    10841 non-null  object \n",
      " 11  Current Ver     10833 non-null  object \n",
      " 12  Android Ver     10838 non-null  object \n",
      "dtypes: float64(1), object(12)\n",
      "memory usage: 1.1+ MB\n"
     ]
    }
   ],
   "source": [
    "## information of Dataset\n",
    "Data.info()"
   ]
  },
  {
   "cell_type": "markdown",
   "id": "768c5909",
   "metadata": {},
   "source": [
    "**Based on the information done above , We need to do the following things :** \n",
    "1. Size Column :Remove character \"M\" and it should be numeric and unify the scale M convert to K.\n",
    "2. install : Remove + sign and it should be numeric. \n",
    "3. Current Version , Andriod Ver and price are unnecessary Columns\n",
    "4. Last Updated: Extract the year and month from this column."
   ]
  },
  {
   "cell_type": "code",
   "execution_count": 10,
   "id": "3ecc5747",
   "metadata": {},
   "outputs": [
    {
     "data": {
      "text/plain": [
       "(10841, 13)"
      ]
     },
     "execution_count": 10,
     "metadata": {},
     "output_type": "execute_result"
    }
   ],
   "source": [
    "## How Many Rows and Columns in this DataSet . \n",
    "Data.shape"
   ]
  },
  {
   "cell_type": "code",
   "execution_count": 11,
   "id": "539433f1",
   "metadata": {},
   "outputs": [
    {
     "data": {
      "text/html": [
       "<div>\n",
       "<style scoped>\n",
       "    .dataframe tbody tr th:only-of-type {\n",
       "        vertical-align: middle;\n",
       "    }\n",
       "\n",
       "    .dataframe tbody tr th {\n",
       "        vertical-align: top;\n",
       "    }\n",
       "\n",
       "    .dataframe thead th {\n",
       "        text-align: right;\n",
       "    }\n",
       "</style>\n",
       "<table border=\"1\" class=\"dataframe\">\n",
       "  <thead>\n",
       "    <tr style=\"text-align: right;\">\n",
       "      <th></th>\n",
       "      <th>App</th>\n",
       "      <th>Category</th>\n",
       "      <th>Rating</th>\n",
       "      <th>Reviews</th>\n",
       "      <th>Size</th>\n",
       "      <th>Installs</th>\n",
       "      <th>Type</th>\n",
       "      <th>Price</th>\n",
       "      <th>Content Rating</th>\n",
       "      <th>Genres</th>\n",
       "      <th>Last Updated</th>\n",
       "    </tr>\n",
       "  </thead>\n",
       "  <tbody>\n",
       "    <tr>\n",
       "      <th>0</th>\n",
       "      <td>Photo Editor &amp; Candy Camera &amp; Grid &amp; ScrapBook</td>\n",
       "      <td>ART_AND_DESIGN</td>\n",
       "      <td>4.1</td>\n",
       "      <td>159</td>\n",
       "      <td>19M</td>\n",
       "      <td>10,000+</td>\n",
       "      <td>Free</td>\n",
       "      <td>0</td>\n",
       "      <td>Everyone</td>\n",
       "      <td>Art &amp; Design</td>\n",
       "      <td>January 7, 2018</td>\n",
       "    </tr>\n",
       "    <tr>\n",
       "      <th>1</th>\n",
       "      <td>Coloring book moana</td>\n",
       "      <td>ART_AND_DESIGN</td>\n",
       "      <td>3.9</td>\n",
       "      <td>967</td>\n",
       "      <td>14M</td>\n",
       "      <td>500,000+</td>\n",
       "      <td>Free</td>\n",
       "      <td>0</td>\n",
       "      <td>Everyone</td>\n",
       "      <td>Art &amp; Design;Pretend Play</td>\n",
       "      <td>January 15, 2018</td>\n",
       "    </tr>\n",
       "    <tr>\n",
       "      <th>2</th>\n",
       "      <td>U Launcher Lite – FREE Live Cool Themes, Hide ...</td>\n",
       "      <td>ART_AND_DESIGN</td>\n",
       "      <td>4.7</td>\n",
       "      <td>87510</td>\n",
       "      <td>8.7M</td>\n",
       "      <td>5,000,000+</td>\n",
       "      <td>Free</td>\n",
       "      <td>0</td>\n",
       "      <td>Everyone</td>\n",
       "      <td>Art &amp; Design</td>\n",
       "      <td>August 1, 2018</td>\n",
       "    </tr>\n",
       "    <tr>\n",
       "      <th>3</th>\n",
       "      <td>Sketch - Draw &amp; Paint</td>\n",
       "      <td>ART_AND_DESIGN</td>\n",
       "      <td>4.5</td>\n",
       "      <td>215644</td>\n",
       "      <td>25M</td>\n",
       "      <td>50,000,000+</td>\n",
       "      <td>Free</td>\n",
       "      <td>0</td>\n",
       "      <td>Teen</td>\n",
       "      <td>Art &amp; Design</td>\n",
       "      <td>June 8, 2018</td>\n",
       "    </tr>\n",
       "    <tr>\n",
       "      <th>4</th>\n",
       "      <td>Pixel Draw - Number Art Coloring Book</td>\n",
       "      <td>ART_AND_DESIGN</td>\n",
       "      <td>4.3</td>\n",
       "      <td>967</td>\n",
       "      <td>2.8M</td>\n",
       "      <td>100,000+</td>\n",
       "      <td>Free</td>\n",
       "      <td>0</td>\n",
       "      <td>Everyone</td>\n",
       "      <td>Art &amp; Design;Creativity</td>\n",
       "      <td>June 20, 2018</td>\n",
       "    </tr>\n",
       "    <tr>\n",
       "      <th>...</th>\n",
       "      <td>...</td>\n",
       "      <td>...</td>\n",
       "      <td>...</td>\n",
       "      <td>...</td>\n",
       "      <td>...</td>\n",
       "      <td>...</td>\n",
       "      <td>...</td>\n",
       "      <td>...</td>\n",
       "      <td>...</td>\n",
       "      <td>...</td>\n",
       "      <td>...</td>\n",
       "    </tr>\n",
       "    <tr>\n",
       "      <th>10836</th>\n",
       "      <td>Sya9a Maroc - FR</td>\n",
       "      <td>FAMILY</td>\n",
       "      <td>4.5</td>\n",
       "      <td>38</td>\n",
       "      <td>53M</td>\n",
       "      <td>5,000+</td>\n",
       "      <td>Free</td>\n",
       "      <td>0</td>\n",
       "      <td>Everyone</td>\n",
       "      <td>Education</td>\n",
       "      <td>July 25, 2017</td>\n",
       "    </tr>\n",
       "    <tr>\n",
       "      <th>10837</th>\n",
       "      <td>Fr. Mike Schmitz Audio Teachings</td>\n",
       "      <td>FAMILY</td>\n",
       "      <td>5.0</td>\n",
       "      <td>4</td>\n",
       "      <td>3.6M</td>\n",
       "      <td>100+</td>\n",
       "      <td>Free</td>\n",
       "      <td>0</td>\n",
       "      <td>Everyone</td>\n",
       "      <td>Education</td>\n",
       "      <td>July 6, 2018</td>\n",
       "    </tr>\n",
       "    <tr>\n",
       "      <th>10838</th>\n",
       "      <td>Parkinson Exercices FR</td>\n",
       "      <td>MEDICAL</td>\n",
       "      <td>NaN</td>\n",
       "      <td>3</td>\n",
       "      <td>9.5M</td>\n",
       "      <td>1,000+</td>\n",
       "      <td>Free</td>\n",
       "      <td>0</td>\n",
       "      <td>Everyone</td>\n",
       "      <td>Medical</td>\n",
       "      <td>January 20, 2017</td>\n",
       "    </tr>\n",
       "    <tr>\n",
       "      <th>10839</th>\n",
       "      <td>The SCP Foundation DB fr nn5n</td>\n",
       "      <td>BOOKS_AND_REFERENCE</td>\n",
       "      <td>4.5</td>\n",
       "      <td>114</td>\n",
       "      <td>Varies with device</td>\n",
       "      <td>1,000+</td>\n",
       "      <td>Free</td>\n",
       "      <td>0</td>\n",
       "      <td>Mature 17+</td>\n",
       "      <td>Books &amp; Reference</td>\n",
       "      <td>January 19, 2015</td>\n",
       "    </tr>\n",
       "    <tr>\n",
       "      <th>10840</th>\n",
       "      <td>iHoroscope - 2018 Daily Horoscope &amp; Astrology</td>\n",
       "      <td>LIFESTYLE</td>\n",
       "      <td>4.5</td>\n",
       "      <td>398307</td>\n",
       "      <td>19M</td>\n",
       "      <td>10,000,000+</td>\n",
       "      <td>Free</td>\n",
       "      <td>0</td>\n",
       "      <td>Everyone</td>\n",
       "      <td>Lifestyle</td>\n",
       "      <td>July 25, 2018</td>\n",
       "    </tr>\n",
       "  </tbody>\n",
       "</table>\n",
       "<p>10841 rows × 11 columns</p>\n",
       "</div>"
      ],
      "text/plain": [
       "                                                     App             Category  \\\n",
       "0         Photo Editor & Candy Camera & Grid & ScrapBook       ART_AND_DESIGN   \n",
       "1                                    Coloring book moana       ART_AND_DESIGN   \n",
       "2      U Launcher Lite – FREE Live Cool Themes, Hide ...       ART_AND_DESIGN   \n",
       "3                                  Sketch - Draw & Paint       ART_AND_DESIGN   \n",
       "4                  Pixel Draw - Number Art Coloring Book       ART_AND_DESIGN   \n",
       "...                                                  ...                  ...   \n",
       "10836                                   Sya9a Maroc - FR               FAMILY   \n",
       "10837                   Fr. Mike Schmitz Audio Teachings               FAMILY   \n",
       "10838                             Parkinson Exercices FR              MEDICAL   \n",
       "10839                      The SCP Foundation DB fr nn5n  BOOKS_AND_REFERENCE   \n",
       "10840      iHoroscope - 2018 Daily Horoscope & Astrology            LIFESTYLE   \n",
       "\n",
       "       Rating Reviews                Size     Installs  Type Price  \\\n",
       "0         4.1     159                 19M      10,000+  Free     0   \n",
       "1         3.9     967                 14M     500,000+  Free     0   \n",
       "2         4.7   87510                8.7M   5,000,000+  Free     0   \n",
       "3         4.5  215644                 25M  50,000,000+  Free     0   \n",
       "4         4.3     967                2.8M     100,000+  Free     0   \n",
       "...       ...     ...                 ...          ...   ...   ...   \n",
       "10836     4.5      38                 53M       5,000+  Free     0   \n",
       "10837     5.0       4                3.6M         100+  Free     0   \n",
       "10838     NaN       3                9.5M       1,000+  Free     0   \n",
       "10839     4.5     114  Varies with device       1,000+  Free     0   \n",
       "10840     4.5  398307                 19M  10,000,000+  Free     0   \n",
       "\n",
       "      Content Rating                     Genres      Last Updated  \n",
       "0           Everyone               Art & Design   January 7, 2018  \n",
       "1           Everyone  Art & Design;Pretend Play  January 15, 2018  \n",
       "2           Everyone               Art & Design    August 1, 2018  \n",
       "3               Teen               Art & Design      June 8, 2018  \n",
       "4           Everyone    Art & Design;Creativity     June 20, 2018  \n",
       "...              ...                        ...               ...  \n",
       "10836       Everyone                  Education     July 25, 2017  \n",
       "10837       Everyone                  Education      July 6, 2018  \n",
       "10838       Everyone                    Medical  January 20, 2017  \n",
       "10839     Mature 17+          Books & Reference  January 19, 2015  \n",
       "10840       Everyone                  Lifestyle     July 25, 2018  \n",
       "\n",
       "[10841 rows x 11 columns]"
      ]
     },
     "execution_count": 11,
     "metadata": {},
     "output_type": "execute_result"
    }
   ],
   "source": [
    "## Take Copy Of the Data to WorkOn\n",
    "AppData = Data.copy()\n",
    "\n",
    "# Drop Unessersy Columne\n",
    "AppData = AppData.drop(['Current Ver', 'Android Ver'], axis = 1)\n",
    "AppData"
   ]
  },
  {
   "cell_type": "markdown",
   "id": "0ec52065",
   "metadata": {},
   "source": [
    "## 1.1 Cleaning Data"
   ]
  },
  {
   "cell_type": "markdown",
   "id": "28f99c4a",
   "metadata": {},
   "source": [
    "### 1.1.1 Change DataType "
   ]
  },
  {
   "cell_type": "markdown",
   "id": "2f06cfcb",
   "metadata": {},
   "source": [
    "#### Size Column"
   ]
  },
  {
   "cell_type": "code",
   "execution_count": 12,
   "id": "8fdd84b9",
   "metadata": {},
   "outputs": [
    {
     "data": {
      "text/html": [
       "<div>\n",
       "<style scoped>\n",
       "    .dataframe tbody tr th:only-of-type {\n",
       "        vertical-align: middle;\n",
       "    }\n",
       "\n",
       "    .dataframe tbody tr th {\n",
       "        vertical-align: top;\n",
       "    }\n",
       "\n",
       "    .dataframe thead th {\n",
       "        text-align: right;\n",
       "    }\n",
       "</style>\n",
       "<table border=\"1\" class=\"dataframe\">\n",
       "  <thead>\n",
       "    <tr style=\"text-align: right;\">\n",
       "      <th></th>\n",
       "      <th>App</th>\n",
       "      <th>Category</th>\n",
       "      <th>Rating</th>\n",
       "      <th>Reviews</th>\n",
       "      <th>Size_Scale</th>\n",
       "      <th>Size</th>\n",
       "      <th>Installs</th>\n",
       "      <th>Type</th>\n",
       "      <th>Price</th>\n",
       "      <th>Content Rating</th>\n",
       "      <th>Genres</th>\n",
       "      <th>Last Updated</th>\n",
       "    </tr>\n",
       "  </thead>\n",
       "  <tbody>\n",
       "    <tr>\n",
       "      <th>0</th>\n",
       "      <td>Photo Editor &amp; Candy Camera &amp; Grid &amp; ScrapBook</td>\n",
       "      <td>ART_AND_DESIGN</td>\n",
       "      <td>4.1</td>\n",
       "      <td>159</td>\n",
       "      <td>M</td>\n",
       "      <td>19</td>\n",
       "      <td>10,000+</td>\n",
       "      <td>Free</td>\n",
       "      <td>0</td>\n",
       "      <td>Everyone</td>\n",
       "      <td>Art &amp; Design</td>\n",
       "      <td>January 7, 2018</td>\n",
       "    </tr>\n",
       "    <tr>\n",
       "      <th>1</th>\n",
       "      <td>Coloring book moana</td>\n",
       "      <td>ART_AND_DESIGN</td>\n",
       "      <td>3.9</td>\n",
       "      <td>967</td>\n",
       "      <td>M</td>\n",
       "      <td>14</td>\n",
       "      <td>500,000+</td>\n",
       "      <td>Free</td>\n",
       "      <td>0</td>\n",
       "      <td>Everyone</td>\n",
       "      <td>Art &amp; Design;Pretend Play</td>\n",
       "      <td>January 15, 2018</td>\n",
       "    </tr>\n",
       "    <tr>\n",
       "      <th>2</th>\n",
       "      <td>U Launcher Lite – FREE Live Cool Themes, Hide ...</td>\n",
       "      <td>ART_AND_DESIGN</td>\n",
       "      <td>4.7</td>\n",
       "      <td>87510</td>\n",
       "      <td>M</td>\n",
       "      <td>8.7</td>\n",
       "      <td>5,000,000+</td>\n",
       "      <td>Free</td>\n",
       "      <td>0</td>\n",
       "      <td>Everyone</td>\n",
       "      <td>Art &amp; Design</td>\n",
       "      <td>August 1, 2018</td>\n",
       "    </tr>\n",
       "    <tr>\n",
       "      <th>3</th>\n",
       "      <td>Sketch - Draw &amp; Paint</td>\n",
       "      <td>ART_AND_DESIGN</td>\n",
       "      <td>4.5</td>\n",
       "      <td>215644</td>\n",
       "      <td>M</td>\n",
       "      <td>25</td>\n",
       "      <td>50,000,000+</td>\n",
       "      <td>Free</td>\n",
       "      <td>0</td>\n",
       "      <td>Teen</td>\n",
       "      <td>Art &amp; Design</td>\n",
       "      <td>June 8, 2018</td>\n",
       "    </tr>\n",
       "    <tr>\n",
       "      <th>4</th>\n",
       "      <td>Pixel Draw - Number Art Coloring Book</td>\n",
       "      <td>ART_AND_DESIGN</td>\n",
       "      <td>4.3</td>\n",
       "      <td>967</td>\n",
       "      <td>M</td>\n",
       "      <td>2.8</td>\n",
       "      <td>100,000+</td>\n",
       "      <td>Free</td>\n",
       "      <td>0</td>\n",
       "      <td>Everyone</td>\n",
       "      <td>Art &amp; Design;Creativity</td>\n",
       "      <td>June 20, 2018</td>\n",
       "    </tr>\n",
       "  </tbody>\n",
       "</table>\n",
       "</div>"
      ],
      "text/plain": [
       "                                                 App        Category  Rating  \\\n",
       "0     Photo Editor & Candy Camera & Grid & ScrapBook  ART_AND_DESIGN     4.1   \n",
       "1                                Coloring book moana  ART_AND_DESIGN     3.9   \n",
       "2  U Launcher Lite – FREE Live Cool Themes, Hide ...  ART_AND_DESIGN     4.7   \n",
       "3                              Sketch - Draw & Paint  ART_AND_DESIGN     4.5   \n",
       "4              Pixel Draw - Number Art Coloring Book  ART_AND_DESIGN     4.3   \n",
       "\n",
       "  Reviews Size_Scale Size     Installs  Type Price Content Rating  \\\n",
       "0     159          M   19      10,000+  Free     0       Everyone   \n",
       "1     967          M   14     500,000+  Free     0       Everyone   \n",
       "2   87510          M  8.7   5,000,000+  Free     0       Everyone   \n",
       "3  215644          M   25  50,000,000+  Free     0           Teen   \n",
       "4     967          M  2.8     100,000+  Free     0       Everyone   \n",
       "\n",
       "                      Genres      Last Updated  \n",
       "0               Art & Design   January 7, 2018  \n",
       "1  Art & Design;Pretend Play  January 15, 2018  \n",
       "2               Art & Design    August 1, 2018  \n",
       "3               Art & Design      June 8, 2018  \n",
       "4    Art & Design;Creativity     June 20, 2018  "
      ]
     },
     "execution_count": 12,
     "metadata": {},
     "output_type": "execute_result"
    }
   ],
   "source": [
    "\n",
    "\n",
    "# Sperate the digit of the scale on size \n",
    "Size_Scale = AppData['Size'].apply(lambda x: x[-1])\n",
    "AppData['Size'] = AppData['Size'].apply(lambda x: x[:-1])\n",
    "\n",
    "## I want to add Size_ScaleColumn after Size not at the end\n",
    "AppData.insert(loc=4, column='Size_Scale', value=Size_Scale)\n",
    "AppData.head()\n"
   ]
  },
  {
   "cell_type": "code",
   "execution_count": 89,
   "id": "b089234c",
   "metadata": {},
   "outputs": [],
   "source": [
    "##AppData['Size2'] = AppData['Size2'].str.replace('Varies with devic', '0')"
   ]
  },
  {
   "cell_type": "code",
   "execution_count": 14,
   "id": "16122cad",
   "metadata": {},
   "outputs": [
    {
     "data": {
      "text/plain": [
       "0         19\n",
       "1         14\n",
       "2        8.7\n",
       "3         25\n",
       "4        2.8\n",
       "        ... \n",
       "10836     53\n",
       "10837    3.6\n",
       "10838    9.5\n",
       "10839      0\n",
       "10840     19\n",
       "Name: Size, Length: 10841, dtype: object"
      ]
     },
     "execution_count": 14,
     "metadata": {},
     "output_type": "execute_result"
    }
   ],
   "source": [
    "##replace the outliers with 0 and later I will replace with Mean\n",
    "\n",
    "AppData['Size'] = AppData['Size'].apply(lambda x : 0 if (len(x) > 5) else x)\n",
    "\n",
    "AppData['Size']"
   ]
  },
  {
   "cell_type": "code",
   "execution_count": 15,
   "id": "10f3c4c8",
   "metadata": {},
   "outputs": [],
   "source": [
    "## Change the data type to float \n",
    "AppData['Size'] = AppData['Size'].str.replace(',', '')\n",
    "AppData['Size'] = AppData['Size'].apply(pd.to_numeric)"
   ]
  },
  {
   "cell_type": "code",
   "execution_count": 16,
   "id": "8478882b",
   "metadata": {},
   "outputs": [],
   "source": [
    "## Unify the Scale by Convert M to K \n",
    "AppData['Size'] = np.where(AppData['Size_Scale'] == 'M',\n",
    "                                           AppData['Size'] * 1024,\n",
    "                                           AppData['Size'])"
   ]
  },
  {
   "cell_type": "code",
   "execution_count": 17,
   "id": "0f425271",
   "metadata": {},
   "outputs": [
    {
     "data": {
      "text/plain": [
       "0        19456.0\n",
       "1        14336.0\n",
       "2         8908.8\n",
       "3        25600.0\n",
       "4         2867.2\n",
       "          ...   \n",
       "10836    54272.0\n",
       "10837     3686.4\n",
       "10838     9728.0\n",
       "10839        NaN\n",
       "10840    19456.0\n",
       "Name: Size, Length: 10841, dtype: float64"
      ]
     },
     "execution_count": 17,
     "metadata": {},
     "output_type": "execute_result"
    }
   ],
   "source": [
    "AppData['Size']"
   ]
  },
  {
   "cell_type": "markdown",
   "id": "2225e6fe",
   "metadata": {},
   "source": [
    "#### Installs Column"
   ]
  },
  {
   "cell_type": "code",
   "execution_count": 18,
   "id": "10bd6fcf",
   "metadata": {},
   "outputs": [
    {
     "data": {
      "text/plain": [
       "0            10,000\n",
       "1           500,000\n",
       "2         5,000,000\n",
       "3        50,000,000\n",
       "4           100,000\n",
       "            ...    \n",
       "10836         5,000\n",
       "10837           100\n",
       "10838         1,000\n",
       "10839         1,000\n",
       "10840    10,000,000\n",
       "Name: Installs, Length: 10841, dtype: object"
      ]
     },
     "execution_count": 18,
     "metadata": {},
     "output_type": "execute_result"
    }
   ],
   "source": [
    "## Remove + Sign\n",
    "\n",
    "AppData['Installs'] = AppData['Installs'].apply(lambda x: x[:-1])\n",
    "AppData['Installs'] "
   ]
  },
  {
   "cell_type": "code",
   "execution_count": 19,
   "id": "6a5afc07",
   "metadata": {},
   "outputs": [],
   "source": [
    "## Change the data type to int \n",
    "AppData['Installs'] = AppData['Installs'].str.replace(',', '')\n",
    "## If there is charachter values replace it with 0 and later I will replace it with Mean\n",
    "AppData['Installs'] = np.where(AppData['Installs'].str.isnumeric()==False,0,AppData['Installs'])\n",
    "AppData['Installs']  = AppData['Installs'] .apply(pd.to_numeric)"
   ]
  },
  {
   "cell_type": "code",
   "execution_count": 20,
   "id": "7d41fa3c",
   "metadata": {},
   "outputs": [
    {
     "data": {
      "text/plain": [
       "0           10000\n",
       "1          500000\n",
       "2         5000000\n",
       "3        50000000\n",
       "4          100000\n",
       "           ...   \n",
       "10836        5000\n",
       "10837         100\n",
       "10838        1000\n",
       "10839        1000\n",
       "10840    10000000\n",
       "Name: Installs, Length: 10841, dtype: int64"
      ]
     },
     "execution_count": 20,
     "metadata": {},
     "output_type": "execute_result"
    }
   ],
   "source": [
    "AppData['Installs']"
   ]
  },
  {
   "cell_type": "markdown",
   "id": "483bf6d3",
   "metadata": {},
   "source": [
    "#### Generse Column"
   ]
  },
  {
   "cell_type": "code",
   "execution_count": 24,
   "id": "d97bc30c",
   "metadata": {},
   "outputs": [],
   "source": [
    " ## Instead of listed how many category the app belong to , I write the number of categories .\n",
    "AppData['Genres2'] = 1 + AppData['Genres'].str.count(\";\")"
   ]
  },
  {
   "cell_type": "markdown",
   "id": "7f845f49",
   "metadata": {},
   "source": [
    "#### Review Column"
   ]
  },
  {
   "cell_type": "code",
   "execution_count": 25,
   "id": "4bbd649d",
   "metadata": {},
   "outputs": [],
   "source": [
    "## 3.0M Value How to Handle it\n",
    "AppData['Reviews'] = np.where(AppData['Reviews'].str.isnumeric()==False ,AppData['Reviews'].str.split('.').str[0]+ '000000',AppData['Reviews'])\n",
    "###AppData['Reviews'].str.split('.').str[0]\n",
    "###AppData['Reviews'] = AppData['Reviews'].str.replace('.', '')\n",
    "AppData['Reviews']  = AppData['Reviews'] .apply(pd.to_numeric)"
   ]
  },
  {
   "cell_type": "code",
   "execution_count": 26,
   "id": "b92d5abb",
   "metadata": {},
   "outputs": [
    {
     "name": "stdout",
     "output_type": "stream",
     "text": [
      "<class 'pandas.core.frame.DataFrame'>\n",
      "RangeIndex: 10841 entries, 0 to 10840\n",
      "Data columns (total 13 columns):\n",
      " #   Column          Non-Null Count  Dtype  \n",
      "---  ------          --------------  -----  \n",
      " 0   App             10841 non-null  object \n",
      " 1   Category        10841 non-null  object \n",
      " 2   Rating          9367 non-null   float64\n",
      " 3   Reviews         10841 non-null  int64  \n",
      " 4   Size_Scale      10841 non-null  object \n",
      " 5   Size            9146 non-null   float64\n",
      " 6   Installs        10841 non-null  int64  \n",
      " 7   Type            10840 non-null  object \n",
      " 8   Price           10841 non-null  object \n",
      " 9   Content Rating  10840 non-null  object \n",
      " 10  Genres          10841 non-null  object \n",
      " 11  Last Updated    10841 non-null  object \n",
      " 12  Genres2         10841 non-null  int64  \n",
      "dtypes: float64(2), int64(3), object(8)\n",
      "memory usage: 1.1+ MB\n"
     ]
    }
   ],
   "source": [
    "AppData.info()"
   ]
  },
  {
   "cell_type": "markdown",
   "id": "697e5ffe",
   "metadata": {},
   "source": [
    "#### Last Updated Column"
   ]
  },
  {
   "cell_type": "code",
   "execution_count": 27,
   "id": "82061ac4",
   "metadata": {
    "scrolled": true
   },
   "outputs": [
    {
     "data": {
      "text/plain": [
       "2018.00    7349\n",
       "2017.00    1867\n",
       "2016.00     804\n",
       "2015.00     459\n",
       "2014.00     209\n",
       "2013.00     110\n",
       "2012.00      26\n",
       "2011.00      15\n",
       "2010.00       1\n",
       "Name: LastUpdated_Year, dtype: int64"
      ]
     },
     "execution_count": 27,
     "metadata": {},
     "output_type": "execute_result"
    }
   ],
   "source": [
    "## Extract Year \n",
    "AppData['LastUpdated_Year'] = AppData['Last Updated'].str.split(',').str[1]\n",
    "## Change DataType From Oject to Int\n",
    "AppData['LastUpdated_Year'] = pd.to_numeric(AppData['LastUpdated_Year'])\n",
    "## Check Value\n",
    "AppData.LastUpdated_Year.value_counts()\n"
   ]
  },
  {
   "cell_type": "code",
   "execution_count": 28,
   "id": "b6f57073",
   "metadata": {},
   "outputs": [
    {
     "data": {
      "text/plain": [
       "July         3163\n",
       "August       1594\n",
       "June         1273\n",
       "May           978\n",
       "March         667\n",
       "April         616\n",
       "February      533\n",
       "January       491\n",
       "December      426\n",
       "October       398\n",
       "November      387\n",
       "September     314\n",
       "1.0.19          1\n",
       "Name: LastUpdated_Month, dtype: int64"
      ]
     },
     "execution_count": 28,
     "metadata": {},
     "output_type": "execute_result"
    }
   ],
   "source": [
    "##Extract Month\n",
    "AppData['LastUpdated_Month'] = AppData['Last Updated'].str.split(' ').str[0]\n",
    "AppData.LastUpdated_Month.value_counts()\n",
    "\n"
   ]
  },
  {
   "cell_type": "code",
   "execution_count": 30,
   "id": "22a7a964",
   "metadata": {},
   "outputs": [
    {
     "name": "stdout",
     "output_type": "stream",
     "text": [
      "<class 'pandas.core.frame.DataFrame'>\n",
      "RangeIndex: 10841 entries, 0 to 10840\n",
      "Data columns (total 15 columns):\n",
      " #   Column             Non-Null Count  Dtype  \n",
      "---  ------             --------------  -----  \n",
      " 0   App                10841 non-null  object \n",
      " 1   Category           10841 non-null  object \n",
      " 2   Rating             9367 non-null   float64\n",
      " 3   Reviews            10841 non-null  int64  \n",
      " 4   Size_Scale         10841 non-null  object \n",
      " 5   Size               9146 non-null   float64\n",
      " 6   Installs           10841 non-null  int64  \n",
      " 7   Type               10840 non-null  object \n",
      " 8   Price              10841 non-null  object \n",
      " 9   Content Rating     10840 non-null  object \n",
      " 10  Genres             10841 non-null  object \n",
      " 11  Last Updated       10841 non-null  object \n",
      " 12  Genres2            10841 non-null  int64  \n",
      " 13  LastUpdated_Year   10840 non-null  float64\n",
      " 14  LastUpdated_Month  10841 non-null  object \n",
      "dtypes: float64(3), int64(3), object(9)\n",
      "memory usage: 1.2+ MB\n"
     ]
    }
   ],
   "source": [
    "AppData.info()"
   ]
  },
  {
   "cell_type": "code",
   "execution_count": 31,
   "id": "64916614",
   "metadata": {},
   "outputs": [
    {
     "data": {
      "text/plain": [
       "July         3163\n",
       "August       1594\n",
       "June         1273\n",
       "May           978\n",
       "March         667\n",
       "April         616\n",
       "February      533\n",
       "January       491\n",
       "December      426\n",
       "October       398\n",
       "November      387\n",
       "September     314\n",
       "Name: LastUpdated_Month, dtype: int64"
      ]
     },
     "execution_count": 31,
     "metadata": {},
     "output_type": "execute_result"
    }
   ],
   "source": [
    "## Delete Rows with 1.0.19 Month ?!\n",
    "AppData = AppData [AppData.LastUpdated_Month != '1.0.19']\n",
    "AppData.LastUpdated_Month.value_counts()"
   ]
  },
  {
   "cell_type": "code",
   "execution_count": 32,
   "id": "dfca0001",
   "metadata": {},
   "outputs": [
    {
     "name": "stdout",
     "output_type": "stream",
     "text": [
      "<class 'pandas.core.frame.DataFrame'>\n",
      "Int64Index: 10840 entries, 0 to 10840\n",
      "Data columns (total 15 columns):\n",
      " #   Column             Non-Null Count  Dtype  \n",
      "---  ------             --------------  -----  \n",
      " 0   App                10840 non-null  object \n",
      " 1   Category           10840 non-null  object \n",
      " 2   Rating             9366 non-null   float64\n",
      " 3   Reviews            10840 non-null  int64  \n",
      " 4   Size_Scale         10840 non-null  object \n",
      " 5   Size               9145 non-null   float64\n",
      " 6   Installs           10840 non-null  int64  \n",
      " 7   Type               10839 non-null  object \n",
      " 8   Price              10840 non-null  object \n",
      " 9   Content Rating     10840 non-null  object \n",
      " 10  Genres             10840 non-null  object \n",
      " 11  Last Updated       10840 non-null  object \n",
      " 12  Genres2            10840 non-null  int64  \n",
      " 13  LastUpdated_Year   10840 non-null  float64\n",
      " 14  LastUpdated_Month  10840 non-null  object \n",
      "dtypes: float64(3), int64(3), object(9)\n",
      "memory usage: 1.3+ MB\n"
     ]
    }
   ],
   "source": [
    "## Check Data Typ After Changing \n",
    "AppData.info()"
   ]
  },
  {
   "cell_type": "markdown",
   "id": "310b5ceb",
   "metadata": {},
   "source": [
    "### 1.1.2 Outliers and Missing Value"
   ]
  },
  {
   "cell_type": "code",
   "execution_count": 34,
   "id": "e4940130",
   "metadata": {
    "scrolled": false
   },
   "outputs": [
    {
     "data": {
      "text/html": [
       "<div>\n",
       "<style scoped>\n",
       "    .dataframe tbody tr th:only-of-type {\n",
       "        vertical-align: middle;\n",
       "    }\n",
       "\n",
       "    .dataframe tbody tr th {\n",
       "        vertical-align: top;\n",
       "    }\n",
       "\n",
       "    .dataframe thead th {\n",
       "        text-align: right;\n",
       "    }\n",
       "</style>\n",
       "<table border=\"1\" class=\"dataframe\">\n",
       "  <thead>\n",
       "    <tr style=\"text-align: right;\">\n",
       "      <th></th>\n",
       "      <th>Rating</th>\n",
       "      <th>Reviews</th>\n",
       "      <th>Size</th>\n",
       "      <th>Installs</th>\n",
       "      <th>Genres2</th>\n",
       "      <th>LastUpdated_Year</th>\n",
       "    </tr>\n",
       "  </thead>\n",
       "  <tbody>\n",
       "    <tr>\n",
       "      <th>count</th>\n",
       "      <td>9366.00</td>\n",
       "      <td>10840.00</td>\n",
       "      <td>9145.00</td>\n",
       "      <td>10840.00</td>\n",
       "      <td>10840.00</td>\n",
       "      <td>10840.00</td>\n",
       "    </tr>\n",
       "    <tr>\n",
       "      <th>mean</th>\n",
       "      <td>4.19</td>\n",
       "      <td>444152.90</td>\n",
       "      <td>22032.55</td>\n",
       "      <td>15464338.88</td>\n",
       "      <td>1.05</td>\n",
       "      <td>2017.40</td>\n",
       "    </tr>\n",
       "    <tr>\n",
       "      <th>std</th>\n",
       "      <td>0.52</td>\n",
       "      <td>2927760.60</td>\n",
       "      <td>23131.22</td>\n",
       "      <td>85029361.40</td>\n",
       "      <td>0.21</td>\n",
       "      <td>1.10</td>\n",
       "    </tr>\n",
       "    <tr>\n",
       "      <th>min</th>\n",
       "      <td>1.00</td>\n",
       "      <td>0.00</td>\n",
       "      <td>8.50</td>\n",
       "      <td>0.00</td>\n",
       "      <td>1.00</td>\n",
       "      <td>2010.00</td>\n",
       "    </tr>\n",
       "    <tr>\n",
       "      <th>25%</th>\n",
       "      <td>4.00</td>\n",
       "      <td>38.00</td>\n",
       "      <td>5017.60</td>\n",
       "      <td>1000.00</td>\n",
       "      <td>1.00</td>\n",
       "      <td>2017.00</td>\n",
       "    </tr>\n",
       "    <tr>\n",
       "      <th>50%</th>\n",
       "      <td>4.30</td>\n",
       "      <td>2094.00</td>\n",
       "      <td>13312.00</td>\n",
       "      <td>100000.00</td>\n",
       "      <td>1.00</td>\n",
       "      <td>2018.00</td>\n",
       "    </tr>\n",
       "    <tr>\n",
       "      <th>75%</th>\n",
       "      <td>4.50</td>\n",
       "      <td>54775.50</td>\n",
       "      <td>30720.00</td>\n",
       "      <td>5000000.00</td>\n",
       "      <td>1.00</td>\n",
       "      <td>2018.00</td>\n",
       "    </tr>\n",
       "    <tr>\n",
       "      <th>max</th>\n",
       "      <td>5.00</td>\n",
       "      <td>78158306.00</td>\n",
       "      <td>102400.00</td>\n",
       "      <td>1000000000.00</td>\n",
       "      <td>2.00</td>\n",
       "      <td>2018.00</td>\n",
       "    </tr>\n",
       "  </tbody>\n",
       "</table>\n",
       "</div>"
      ],
      "text/plain": [
       "       Rating     Reviews      Size      Installs  Genres2  LastUpdated_Year\n",
       "count 9366.00    10840.00   9145.00      10840.00 10840.00          10840.00\n",
       "mean     4.19   444152.90  22032.55   15464338.88     1.05           2017.40\n",
       "std      0.52  2927760.60  23131.22   85029361.40     0.21              1.10\n",
       "min      1.00        0.00      8.50          0.00     1.00           2010.00\n",
       "25%      4.00       38.00   5017.60       1000.00     1.00           2017.00\n",
       "50%      4.30     2094.00  13312.00     100000.00     1.00           2018.00\n",
       "75%      4.50    54775.50  30720.00    5000000.00     1.00           2018.00\n",
       "max      5.00 78158306.00 102400.00 1000000000.00     2.00           2018.00"
      ]
     },
     "execution_count": 34,
     "metadata": {},
     "output_type": "execute_result"
    }
   ],
   "source": [
    "## Check Correlation\n",
    "## Check Outliers \n",
    "AppData.describe()"
   ]
  },
  {
   "cell_type": "markdown",
   "id": "0147649a",
   "metadata": {},
   "source": [
    "We Noticed Here on the **Rating Column** There is Outliers since the scale Must be between 0 - 5 and here the max Value = 19 \n",
    "I will replace values Greater than 5 with the mean\n",
    "**Installs** Since  I replace above the wrong entries with 0 , I will change it to the mean.\n",
    "on the **Reviews** also there are outliers since the differences between the mean and median are big"
   ]
  },
  {
   "cell_type": "code",
   "execution_count": 35,
   "id": "d95cabb0",
   "metadata": {},
   "outputs": [
    {
     "data": {
      "text/plain": [
       "App                     0\n",
       "Category                0\n",
       "Rating               1474\n",
       "Reviews                 0\n",
       "Size_Scale              0\n",
       "Size                 1695\n",
       "Installs                0\n",
       "Type                    1\n",
       "Price                   0\n",
       "Content Rating          0\n",
       "Genres                  0\n",
       "Last Updated            0\n",
       "Genres2                 0\n",
       "LastUpdated_Year        0\n",
       "LastUpdated_Month       0\n",
       "dtype: int64"
      ]
     },
     "execution_count": 35,
     "metadata": {},
     "output_type": "execute_result"
    }
   ],
   "source": [
    "# Check for Null values\n",
    "AppData.isnull().sum()"
   ]
  },
  {
   "cell_type": "markdown",
   "id": "877e8156",
   "metadata": {},
   "source": [
    "#### Type Column\n"
   ]
  },
  {
   "cell_type": "code",
   "execution_count": 36,
   "id": "91092c18",
   "metadata": {
    "scrolled": true
   },
   "outputs": [
    {
     "data": {
      "text/plain": [
       "Free    10039\n",
       "Paid      800\n",
       "Name: Type, dtype: int64"
      ]
     },
     "execution_count": 36,
     "metadata": {},
     "output_type": "execute_result"
    }
   ],
   "source": [
    "AppData.Type.value_counts()"
   ]
  },
  {
   "cell_type": "code",
   "execution_count": 38,
   "id": "d3fb5dae",
   "metadata": {},
   "outputs": [
    {
     "data": {
      "text/plain": [
       "Free    10040\n",
       "Paid      800\n",
       "Name: Type, dtype: int64"
      ]
     },
     "execution_count": 38,
     "metadata": {},
     "output_type": "execute_result"
    }
   ],
   "source": [
    "## Since the 0 Type is less than 3% I will delete it \n",
    "AppData=AppData[AppData.Type != '0']\n",
    "## Replace NA Vaule with Free\n",
    "AppData.Type.fillna('Free',inplace=True)\n",
    "AppData.Type.value_counts()"
   ]
  },
  {
   "cell_type": "markdown",
   "id": "1fee1d86",
   "metadata": {},
   "source": [
    "#### Rating Column"
   ]
  },
  {
   "cell_type": "code",
   "execution_count": 40,
   "id": "c1686f53",
   "metadata": {
    "scrolled": true
   },
   "outputs": [
    {
     "data": {
      "text/html": [
       "<div>\n",
       "<style scoped>\n",
       "    .dataframe tbody tr th:only-of-type {\n",
       "        vertical-align: middle;\n",
       "    }\n",
       "\n",
       "    .dataframe tbody tr th {\n",
       "        vertical-align: top;\n",
       "    }\n",
       "\n",
       "    .dataframe thead th {\n",
       "        text-align: right;\n",
       "    }\n",
       "</style>\n",
       "<table border=\"1\" class=\"dataframe\">\n",
       "  <thead>\n",
       "    <tr style=\"text-align: right;\">\n",
       "      <th></th>\n",
       "      <th>Rating</th>\n",
       "      <th>Reviews</th>\n",
       "      <th>Size</th>\n",
       "      <th>Installs</th>\n",
       "      <th>Genres2</th>\n",
       "      <th>LastUpdated_Year</th>\n",
       "    </tr>\n",
       "  </thead>\n",
       "  <tbody>\n",
       "    <tr>\n",
       "      <th>count</th>\n",
       "      <td>9366.00</td>\n",
       "      <td>10840.00</td>\n",
       "      <td>9145.00</td>\n",
       "      <td>10840.00</td>\n",
       "      <td>10840.00</td>\n",
       "      <td>10840.00</td>\n",
       "    </tr>\n",
       "    <tr>\n",
       "      <th>mean</th>\n",
       "      <td>4.19</td>\n",
       "      <td>444152.90</td>\n",
       "      <td>22032.55</td>\n",
       "      <td>15464338.88</td>\n",
       "      <td>1.05</td>\n",
       "      <td>2017.40</td>\n",
       "    </tr>\n",
       "    <tr>\n",
       "      <th>std</th>\n",
       "      <td>0.52</td>\n",
       "      <td>2927760.60</td>\n",
       "      <td>23131.22</td>\n",
       "      <td>85029361.40</td>\n",
       "      <td>0.21</td>\n",
       "      <td>1.10</td>\n",
       "    </tr>\n",
       "    <tr>\n",
       "      <th>min</th>\n",
       "      <td>1.00</td>\n",
       "      <td>0.00</td>\n",
       "      <td>8.50</td>\n",
       "      <td>0.00</td>\n",
       "      <td>1.00</td>\n",
       "      <td>2010.00</td>\n",
       "    </tr>\n",
       "    <tr>\n",
       "      <th>25%</th>\n",
       "      <td>4.00</td>\n",
       "      <td>38.00</td>\n",
       "      <td>5017.60</td>\n",
       "      <td>1000.00</td>\n",
       "      <td>1.00</td>\n",
       "      <td>2017.00</td>\n",
       "    </tr>\n",
       "    <tr>\n",
       "      <th>50%</th>\n",
       "      <td>4.30</td>\n",
       "      <td>2094.00</td>\n",
       "      <td>13312.00</td>\n",
       "      <td>100000.00</td>\n",
       "      <td>1.00</td>\n",
       "      <td>2018.00</td>\n",
       "    </tr>\n",
       "    <tr>\n",
       "      <th>75%</th>\n",
       "      <td>4.50</td>\n",
       "      <td>54775.50</td>\n",
       "      <td>30720.00</td>\n",
       "      <td>5000000.00</td>\n",
       "      <td>1.00</td>\n",
       "      <td>2018.00</td>\n",
       "    </tr>\n",
       "    <tr>\n",
       "      <th>max</th>\n",
       "      <td>5.00</td>\n",
       "      <td>78158306.00</td>\n",
       "      <td>102400.00</td>\n",
       "      <td>1000000000.00</td>\n",
       "      <td>2.00</td>\n",
       "      <td>2018.00</td>\n",
       "    </tr>\n",
       "  </tbody>\n",
       "</table>\n",
       "</div>"
      ],
      "text/plain": [
       "       Rating     Reviews      Size      Installs  Genres2  LastUpdated_Year\n",
       "count 9366.00    10840.00   9145.00      10840.00 10840.00          10840.00\n",
       "mean     4.19   444152.90  22032.55   15464338.88     1.05           2017.40\n",
       "std      0.52  2927760.60  23131.22   85029361.40     0.21              1.10\n",
       "min      1.00        0.00      8.50          0.00     1.00           2010.00\n",
       "25%      4.00       38.00   5017.60       1000.00     1.00           2017.00\n",
       "50%      4.30     2094.00  13312.00     100000.00     1.00           2018.00\n",
       "75%      4.50    54775.50  30720.00    5000000.00     1.00           2018.00\n",
       "max      5.00 78158306.00 102400.00 1000000000.00     2.00           2018.00"
      ]
     },
     "execution_count": 40,
     "metadata": {},
     "output_type": "execute_result"
    }
   ],
   "source": [
    "## Replace the outliers with median \n",
    "AppData['Rating'] = np.where(AppData['Rating']>5 ,4.30 ,AppData['Rating'])\n",
    "AppData.describe()"
   ]
  },
  {
   "cell_type": "code",
   "execution_count": 41,
   "id": "a2bbde8b",
   "metadata": {},
   "outputs": [],
   "source": [
    "## Replace NA Value with median\n",
    "Mean_Rating=AppData.Rating.median()\n",
    "AppData.Rating.fillna(Mean_Rating,inplace=True)"
   ]
  },
  {
   "cell_type": "markdown",
   "id": "426ada2e",
   "metadata": {},
   "source": [
    "#### Installs Column"
   ]
  },
  {
   "cell_type": "code",
   "execution_count": 42,
   "id": "2ba5330b",
   "metadata": {},
   "outputs": [
    {
     "data": {
      "text/html": [
       "<div>\n",
       "<style scoped>\n",
       "    .dataframe tbody tr th:only-of-type {\n",
       "        vertical-align: middle;\n",
       "    }\n",
       "\n",
       "    .dataframe tbody tr th {\n",
       "        vertical-align: top;\n",
       "    }\n",
       "\n",
       "    .dataframe thead th {\n",
       "        text-align: right;\n",
       "    }\n",
       "</style>\n",
       "<table border=\"1\" class=\"dataframe\">\n",
       "  <thead>\n",
       "    <tr style=\"text-align: right;\">\n",
       "      <th></th>\n",
       "      <th>Rating</th>\n",
       "      <th>Reviews</th>\n",
       "      <th>Size</th>\n",
       "      <th>Installs</th>\n",
       "      <th>Genres2</th>\n",
       "      <th>LastUpdated_Year</th>\n",
       "    </tr>\n",
       "  </thead>\n",
       "  <tbody>\n",
       "    <tr>\n",
       "      <th>count</th>\n",
       "      <td>10840.00</td>\n",
       "      <td>10840.00</td>\n",
       "      <td>9145.00</td>\n",
       "      <td>10840.00</td>\n",
       "      <td>10840.00</td>\n",
       "      <td>10840.00</td>\n",
       "    </tr>\n",
       "    <tr>\n",
       "      <th>mean</th>\n",
       "      <td>4.21</td>\n",
       "      <td>444152.90</td>\n",
       "      <td>22032.55</td>\n",
       "      <td>15464477.26</td>\n",
       "      <td>1.05</td>\n",
       "      <td>2017.40</td>\n",
       "    </tr>\n",
       "    <tr>\n",
       "      <th>std</th>\n",
       "      <td>0.48</td>\n",
       "      <td>2927760.60</td>\n",
       "      <td>23131.22</td>\n",
       "      <td>85029336.31</td>\n",
       "      <td>0.21</td>\n",
       "      <td>1.10</td>\n",
       "    </tr>\n",
       "    <tr>\n",
       "      <th>min</th>\n",
       "      <td>1.00</td>\n",
       "      <td>0.00</td>\n",
       "      <td>8.50</td>\n",
       "      <td>1.00</td>\n",
       "      <td>1.00</td>\n",
       "      <td>2010.00</td>\n",
       "    </tr>\n",
       "    <tr>\n",
       "      <th>25%</th>\n",
       "      <td>4.10</td>\n",
       "      <td>38.00</td>\n",
       "      <td>5017.60</td>\n",
       "      <td>5000.00</td>\n",
       "      <td>1.00</td>\n",
       "      <td>2017.00</td>\n",
       "    </tr>\n",
       "    <tr>\n",
       "      <th>50%</th>\n",
       "      <td>4.30</td>\n",
       "      <td>2094.00</td>\n",
       "      <td>13312.00</td>\n",
       "      <td>100000.00</td>\n",
       "      <td>1.00</td>\n",
       "      <td>2018.00</td>\n",
       "    </tr>\n",
       "    <tr>\n",
       "      <th>75%</th>\n",
       "      <td>4.50</td>\n",
       "      <td>54775.50</td>\n",
       "      <td>30720.00</td>\n",
       "      <td>5000000.00</td>\n",
       "      <td>1.00</td>\n",
       "      <td>2018.00</td>\n",
       "    </tr>\n",
       "    <tr>\n",
       "      <th>max</th>\n",
       "      <td>5.00</td>\n",
       "      <td>78158306.00</td>\n",
       "      <td>102400.00</td>\n",
       "      <td>1000000000.00</td>\n",
       "      <td>2.00</td>\n",
       "      <td>2018.00</td>\n",
       "    </tr>\n",
       "  </tbody>\n",
       "</table>\n",
       "</div>"
      ],
      "text/plain": [
       "        Rating     Reviews      Size      Installs  Genres2  LastUpdated_Year\n",
       "count 10840.00    10840.00   9145.00      10840.00 10840.00          10840.00\n",
       "mean      4.21   444152.90  22032.55   15464477.26     1.05           2017.40\n",
       "std       0.48  2927760.60  23131.22   85029336.31     0.21              1.10\n",
       "min       1.00        0.00      8.50          1.00     1.00           2010.00\n",
       "25%       4.10       38.00   5017.60       5000.00     1.00           2017.00\n",
       "50%       4.30     2094.00  13312.00     100000.00     1.00           2018.00\n",
       "75%       4.50    54775.50  30720.00    5000000.00     1.00           2018.00\n",
       "max       5.00 78158306.00 102400.00 1000000000.00     2.00           2018.00"
      ]
     },
     "execution_count": 42,
     "metadata": {},
     "output_type": "execute_result"
    }
   ],
   "source": [
    "## Replace the outliers with median \n",
    "AppData['Installs'] = np.where(AppData['Installs'] == 0 ,100000 ,AppData['Installs'])\n",
    "AppData.describe()"
   ]
  },
  {
   "cell_type": "markdown",
   "id": "0e3c8310",
   "metadata": {},
   "source": [
    "#### Size Column"
   ]
  },
  {
   "cell_type": "code",
   "execution_count": 43,
   "id": "fa3bd103",
   "metadata": {},
   "outputs": [],
   "source": [
    "## Replace NA Value with Mean\n",
    "Mean_Size=AppData.Size.mean()\n",
    "AppData.Size.fillna(Mean_Size,inplace=True)"
   ]
  },
  {
   "cell_type": "code",
   "execution_count": 44,
   "id": "1fd780fd",
   "metadata": {},
   "outputs": [
    {
     "data": {
      "text/plain": [
       "App                  0\n",
       "Category             0\n",
       "Rating               0\n",
       "Reviews              0\n",
       "Size_Scale           0\n",
       "Size                 0\n",
       "Installs             0\n",
       "Type                 0\n",
       "Price                0\n",
       "Content Rating       0\n",
       "Genres               0\n",
       "Last Updated         0\n",
       "Genres2              0\n",
       "LastUpdated_Year     0\n",
       "LastUpdated_Month    0\n",
       "dtype: int64"
      ]
     },
     "execution_count": 44,
     "metadata": {},
     "output_type": "execute_result"
    }
   ],
   "source": [
    "## Let Check Now the Missing Value Again\n",
    "AppData.isnull().sum()"
   ]
  },
  {
   "cell_type": "markdown",
   "id": "c888488b",
   "metadata": {},
   "source": [
    "**Great ! No Missing Value**"
   ]
  },
  {
   "cell_type": "code",
   "execution_count": 45,
   "id": "9dd3c535",
   "metadata": {},
   "outputs": [
    {
     "data": {
      "text/plain": [
       "FAMILY                 1972\n",
       "GAME                   1144\n",
       "TOOLS                   843\n",
       "MEDICAL                 463\n",
       "BUSINESS                460\n",
       "PRODUCTIVITY            424\n",
       "PERSONALIZATION         392\n",
       "COMMUNICATION           387\n",
       "SPORTS                  384\n",
       "LIFESTYLE               382\n",
       "FINANCE                 366\n",
       "HEALTH_AND_FITNESS      341\n",
       "PHOTOGRAPHY             335\n",
       "SOCIAL                  295\n",
       "NEWS_AND_MAGAZINES      283\n",
       "SHOPPING                260\n",
       "TRAVEL_AND_LOCAL        258\n",
       "DATING                  234\n",
       "BOOKS_AND_REFERENCE     231\n",
       "VIDEO_PLAYERS           175\n",
       "EDUCATION               156\n",
       "ENTERTAINMENT           149\n",
       "MAPS_AND_NAVIGATION     137\n",
       "FOOD_AND_DRINK          127\n",
       "HOUSE_AND_HOME           88\n",
       "AUTO_AND_VEHICLES        85\n",
       "LIBRARIES_AND_DEMO       85\n",
       "WEATHER                  82\n",
       "ART_AND_DESIGN           65\n",
       "EVENTS                   64\n",
       "PARENTING                60\n",
       "COMICS                   60\n",
       "BEAUTY                   53\n",
       "Name: Category, dtype: int64"
      ]
     },
     "execution_count": 45,
     "metadata": {},
     "output_type": "execute_result"
    }
   ],
   "source": [
    "## Check How Many Category we have\n",
    "AppData.Category.value_counts()\n"
   ]
  },
  {
   "cell_type": "markdown",
   "id": "c61cdf24",
   "metadata": {},
   "source": [
    "## Part2 : Visualization"
   ]
  },
  {
   "cell_type": "code",
   "execution_count": 50,
   "id": "b2547b9c",
   "metadata": {
    "scrolled": true
   },
   "outputs": [
    {
     "data": {
      "text/plain": [
       "<AxesSubplot:xlabel='Type', ylabel='count'>"
      ]
     },
     "execution_count": 50,
     "metadata": {},
     "output_type": "execute_result"
    },
    {
     "data": {
      "image/png": "[encoded data removed]",
      "text/plain": [
       "<Figure size 432x288 with 1 Axes>"
      ]
     },
     "metadata": {
      "needs_background": "light"
     },
     "output_type": "display_data"
    }
   ],
   "source": [
    "sns.countplot(x ='Type',data=AppData ) "
   ]
  },
  {
   "cell_type": "markdown",
   "id": "55b50a66",
   "metadata": {},
   "source": [
    "This bar graph shows our data has more free app than Paid app."
   ]
  },
  {
   "cell_type": "code",
   "execution_count": 94,
   "id": "cc70407a",
   "metadata": {},
   "outputs": [
    {
     "data": {
      "text/plain": [
       "<AxesSubplot:xlabel='LastUpdated_Year', ylabel='count'>"
      ]
     },
     "execution_count": 94,
     "metadata": {},
     "output_type": "execute_result"
    },
    {
     "data": {
      "image/png": "[encoded data removed]",
      "text/plain": [
       "<Figure size 432x288 with 1 Axes>"
      ]
     },
     "metadata": {
      "needs_background": "light"
     },
     "output_type": "display_data"
    }
   ],
   "source": [
    "sns.countplot(x ='LastUpdated_Year',data=AppData ,hue = 'Type') "
   ]
  },
  {
   "cell_type": "markdown",
   "id": "85195687",
   "metadata": {},
   "source": [
    "This graph shows App Updated or Added Over The Years"
   ]
  },
  {
   "cell_type": "code",
   "execution_count": 55,
   "id": "d924e37e",
   "metadata": {},
   "outputs": [
    {
     "data": {
      "text/plain": [
       "<AxesSubplot:title={'center':'The most 10 App Categories in Dataset'}>"
      ]
     },
     "execution_count": 55,
     "metadata": {},
     "output_type": "execute_result"
    },
    {
     "data": {
      "image/png": "[encoded data removed]",
      "text/plain": [
       "<Figure size 432x288 with 1 Axes>"
      ]
     },
     "metadata": {
      "needs_background": "light"
     },
     "output_type": "display_data"
    }
   ],
   "source": [
    "AppData['Category'].value_counts()[:10].plot(kind='barh', title= 'The most 10 App Categories in Dataset')"
   ]
  },
  {
   "cell_type": "markdown",
   "id": "28ec7cc0",
   "metadata": {},
   "source": [
    "This Horizental Bar chart shows the most 10 frequncy categories in our dataset. However , this Actully has no value in analysis the data we must see which Category has large numer of install ? Which category has large number of reviews and High rating then we will show this in the following bar chart."
   ]
  },
  {
   "cell_type": "code",
   "execution_count": 56,
   "id": "af0fa621",
   "metadata": {},
   "outputs": [
    {
     "data": {
      "text/plain": [
       "<AxesSubplot:title={'center':'The most  10 Installed App Categories'}, ylabel='Category'>"
      ]
     },
     "execution_count": 56,
     "metadata": {},
     "output_type": "execute_result"
    },
    {
     "data": {
      "image/png": "[encoded data removed]",
      "text/plain": [
       "<Figure size 432x288 with 1 Axes>"
      ]
     },
     "metadata": {
      "needs_background": "light"
     },
     "output_type": "display_data"
    }
   ],
   "source": [
    "AppData.groupby('Category')[['Installs']].sum().sort_values('Installs', ascending = [False])[:10].plot(kind='barh', title= 'The most 10 Installed App Categories')"
   ]
  },
  {
   "cell_type": "code",
   "execution_count": 335,
   "id": "cb850995",
   "metadata": {},
   "outputs": [
    {
     "data": {
      "text/plain": [
       "<AxesSubplot:title={'center':'The most  10 Rating App Categories'}, ylabel='Category'>"
      ]
     },
     "execution_count": 335,
     "metadata": {},
     "output_type": "execute_result"
    },
    {
     "data": {
      "image/png": "[encoded data removed]",
      "text/plain": [
       "<Figure size 432x288 with 1 Axes>"
      ]
     },
     "metadata": {
      "needs_background": "light"
     },
     "output_type": "display_data"
    }
   ],
   "source": [
    "AppData.groupby('Category')[['Rating']].sum().sort_values('Rating', ascending = [False])[:10].plot(kind='barh', title= 'The most  10 Rating App Categories', Color='g')"
   ]
  },
  {
   "cell_type": "markdown",
   "id": "c1b96739",
   "metadata": {},
   "source": [
    "Here the the app category order has changed . In fact , it will depend on area which want to analysis .\n"
   ]
  },
  {
   "cell_type": "code",
   "execution_count": 321,
   "id": "e5075a52",
   "metadata": {},
   "outputs": [
    {
     "data": {
      "text/plain": [
       "<AxesSubplot:title={'center':'App Added or Updated over the years'}>"
      ]
     },
     "execution_count": 321,
     "metadata": {},
     "output_type": "execute_result"
    },
    {
     "data": {
      "image/png": "[encoded data removed]",
      "text/plain": [
       "<Figure size 432x288 with 1 Axes>"
      ]
     },
     "metadata": {
      "needs_background": "light"
     },
     "output_type": "display_data"
    }
   ],
   "source": [
    "AppData['LastUpdated_Year'].value_counts().plot(kind='line',title='App Added or Updated over the years')"
   ]
  },
  {
   "cell_type": "markdown",
   "id": "75d8082b",
   "metadata": {},
   "source": [
    "This graph shows Most App are Updated. Because if the app has not be updated will not may be  OS , Or it will has problems or "
   ]
  },
  {
   "cell_type": "code",
   "execution_count": 336,
   "id": "a1af4b96",
   "metadata": {},
   "outputs": [
    {
     "data": {
      "text/plain": [
       "<AxesSubplot:>"
      ]
     },
     "execution_count": 336,
     "metadata": {},
     "output_type": "execute_result"
    },
    {
     "data": {
      "image/png": "[encoded data removed]",
      "text/plain": [
       "<Figure size 432x288 with 2 Axes>"
      ]
     },
     "metadata": {
      "needs_background": "light"
     },
     "output_type": "display_data"
    }
   ],
   "source": [
    "#Check Correlation\n",
    "sns.heatmap(AppData.corr(),annot=True,)"
   ]
  },
  {
   "cell_type": "markdown",
   "id": "88d2dacb",
   "metadata": {},
   "source": [
    "This shows our features have no correlation with installs except the reviews has Moderete correlation .\n",
    "That means app owners hould encourage the users to write reviews on thier app . Many reviews leads to have many installs. Some people choose the app based on reviews .\n",
    "There are week correlation on LastUpdated Year and rating , LastUpdated Year and Size "
   ]
  },
  {
   "cell_type": "markdown",
   "id": "8e309f2f",
   "metadata": {},
   "source": [
    "## Part 3 Modeling"
   ]
  },
  {
   "cell_type": "code",
   "execution_count": 79,
   "id": "588230db",
   "metadata": {},
   "outputs": [],
   "source": [
    "## Prepare Data For Modeling \n",
    "##Convert categorical variable into dummy/indicator variables.\n",
    "AppData_Test = AppData[['Category','Rating','Installs','Size','Reviews','Genres2','Type']]\n",
    "df = pd.get_dummies(AppData_Test)"
   ]
  },
  {
   "cell_type": "code",
   "execution_count": 80,
   "id": "0321a673",
   "metadata": {},
   "outputs": [
    {
     "data": {
      "text/html": [
       "<div>\n",
       "<style scoped>\n",
       "    .dataframe tbody tr th:only-of-type {\n",
       "        vertical-align: middle;\n",
       "    }\n",
       "\n",
       "    .dataframe tbody tr th {\n",
       "        vertical-align: top;\n",
       "    }\n",
       "\n",
       "    .dataframe thead th {\n",
       "        text-align: right;\n",
       "    }\n",
       "</style>\n",
       "<table border=\"1\" class=\"dataframe\">\n",
       "  <thead>\n",
       "    <tr style=\"text-align: right;\">\n",
       "      <th></th>\n",
       "      <th>Rating</th>\n",
       "      <th>Installs</th>\n",
       "      <th>Size</th>\n",
       "      <th>Reviews</th>\n",
       "      <th>Genres2</th>\n",
       "      <th>Category_ART_AND_DESIGN</th>\n",
       "      <th>Category_AUTO_AND_VEHICLES</th>\n",
       "      <th>Category_BEAUTY</th>\n",
       "      <th>Category_BOOKS_AND_REFERENCE</th>\n",
       "      <th>Category_BUSINESS</th>\n",
       "      <th>...</th>\n",
       "      <th>Category_PRODUCTIVITY</th>\n",
       "      <th>Category_SHOPPING</th>\n",
       "      <th>Category_SOCIAL</th>\n",
       "      <th>Category_SPORTS</th>\n",
       "      <th>Category_TOOLS</th>\n",
       "      <th>Category_TRAVEL_AND_LOCAL</th>\n",
       "      <th>Category_VIDEO_PLAYERS</th>\n",
       "      <th>Category_WEATHER</th>\n",
       "      <th>Type_Free</th>\n",
       "      <th>Type_Paid</th>\n",
       "    </tr>\n",
       "  </thead>\n",
       "  <tbody>\n",
       "    <tr>\n",
       "      <th>0</th>\n",
       "      <td>4.10</td>\n",
       "      <td>10000</td>\n",
       "      <td>19456.00</td>\n",
       "      <td>159</td>\n",
       "      <td>1</td>\n",
       "      <td>1</td>\n",
       "      <td>0</td>\n",
       "      <td>0</td>\n",
       "      <td>0</td>\n",
       "      <td>0</td>\n",
       "      <td>...</td>\n",
       "      <td>0</td>\n",
       "      <td>0</td>\n",
       "      <td>0</td>\n",
       "      <td>0</td>\n",
       "      <td>0</td>\n",
       "      <td>0</td>\n",
       "      <td>0</td>\n",
       "      <td>0</td>\n",
       "      <td>1</td>\n",
       "      <td>0</td>\n",
       "    </tr>\n",
       "    <tr>\n",
       "      <th>1</th>\n",
       "      <td>3.90</td>\n",
       "      <td>500000</td>\n",
       "      <td>14336.00</td>\n",
       "      <td>967</td>\n",
       "      <td>2</td>\n",
       "      <td>1</td>\n",
       "      <td>0</td>\n",
       "      <td>0</td>\n",
       "      <td>0</td>\n",
       "      <td>0</td>\n",
       "      <td>...</td>\n",
       "      <td>0</td>\n",
       "      <td>0</td>\n",
       "      <td>0</td>\n",
       "      <td>0</td>\n",
       "      <td>0</td>\n",
       "      <td>0</td>\n",
       "      <td>0</td>\n",
       "      <td>0</td>\n",
       "      <td>1</td>\n",
       "      <td>0</td>\n",
       "    </tr>\n",
       "    <tr>\n",
       "      <th>2</th>\n",
       "      <td>4.70</td>\n",
       "      <td>5000000</td>\n",
       "      <td>8908.80</td>\n",
       "      <td>87510</td>\n",
       "      <td>1</td>\n",
       "      <td>1</td>\n",
       "      <td>0</td>\n",
       "      <td>0</td>\n",
       "      <td>0</td>\n",
       "      <td>0</td>\n",
       "      <td>...</td>\n",
       "      <td>0</td>\n",
       "      <td>0</td>\n",
       "      <td>0</td>\n",
       "      <td>0</td>\n",
       "      <td>0</td>\n",
       "      <td>0</td>\n",
       "      <td>0</td>\n",
       "      <td>0</td>\n",
       "      <td>1</td>\n",
       "      <td>0</td>\n",
       "    </tr>\n",
       "    <tr>\n",
       "      <th>3</th>\n",
       "      <td>4.50</td>\n",
       "      <td>50000000</td>\n",
       "      <td>25600.00</td>\n",
       "      <td>215644</td>\n",
       "      <td>1</td>\n",
       "      <td>1</td>\n",
       "      <td>0</td>\n",
       "      <td>0</td>\n",
       "      <td>0</td>\n",
       "      <td>0</td>\n",
       "      <td>...</td>\n",
       "      <td>0</td>\n",
       "      <td>0</td>\n",
       "      <td>0</td>\n",
       "      <td>0</td>\n",
       "      <td>0</td>\n",
       "      <td>0</td>\n",
       "      <td>0</td>\n",
       "      <td>0</td>\n",
       "      <td>1</td>\n",
       "      <td>0</td>\n",
       "    </tr>\n",
       "    <tr>\n",
       "      <th>4</th>\n",
       "      <td>4.30</td>\n",
       "      <td>100000</td>\n",
       "      <td>2867.20</td>\n",
       "      <td>967</td>\n",
       "      <td>2</td>\n",
       "      <td>1</td>\n",
       "      <td>0</td>\n",
       "      <td>0</td>\n",
       "      <td>0</td>\n",
       "      <td>0</td>\n",
       "      <td>...</td>\n",
       "      <td>0</td>\n",
       "      <td>0</td>\n",
       "      <td>0</td>\n",
       "      <td>0</td>\n",
       "      <td>0</td>\n",
       "      <td>0</td>\n",
       "      <td>0</td>\n",
       "      <td>0</td>\n",
       "      <td>1</td>\n",
       "      <td>0</td>\n",
       "    </tr>\n",
       "  </tbody>\n",
       "</table>\n",
       "<p>5 rows × 40 columns</p>\n",
       "</div>"
      ],
      "text/plain": [
       "   Rating  Installs     Size  Reviews  Genres2  Category_ART_AND_DESIGN  \\\n",
       "0    4.10     10000 19456.00      159        1                        1   \n",
       "1    3.90    500000 14336.00      967        2                        1   \n",
       "2    4.70   5000000  8908.80    87510        1                        1   \n",
       "3    4.50  50000000 25600.00   215644        1                        1   \n",
       "4    4.30    100000  2867.20      967        2                        1   \n",
       "\n",
       "   Category_AUTO_AND_VEHICLES  Category_BEAUTY  Category_BOOKS_AND_REFERENCE  \\\n",
       "0                           0                0                             0   \n",
       "1                           0                0                             0   \n",
       "2                           0                0                             0   \n",
       "3                           0                0                             0   \n",
       "4                           0                0                             0   \n",
       "\n",
       "   Category_BUSINESS  ...  Category_PRODUCTIVITY  Category_SHOPPING  \\\n",
       "0                  0  ...                      0                  0   \n",
       "1                  0  ...                      0                  0   \n",
       "2                  0  ...                      0                  0   \n",
       "3                  0  ...                      0                  0   \n",
       "4                  0  ...                      0                  0   \n",
       "\n",
       "   Category_SOCIAL  Category_SPORTS  Category_TOOLS  \\\n",
       "0                0                0               0   \n",
       "1                0                0               0   \n",
       "2                0                0               0   \n",
       "3                0                0               0   \n",
       "4                0                0               0   \n",
       "\n",
       "   Category_TRAVEL_AND_LOCAL  Category_VIDEO_PLAYERS  Category_WEATHER  \\\n",
       "0                          0                       0                 0   \n",
       "1                          0                       0                 0   \n",
       "2                          0                       0                 0   \n",
       "3                          0                       0                 0   \n",
       "4                          0                       0                 0   \n",
       "\n",
       "   Type_Free  Type_Paid  \n",
       "0          1          0  \n",
       "1          1          0  \n",
       "2          1          0  \n",
       "3          1          0  \n",
       "4          1          0  \n",
       "\n",
       "[5 rows x 40 columns]"
      ]
     },
     "execution_count": 80,
     "metadata": {},
     "output_type": "execute_result"
    }
   ],
   "source": [
    "df.head()"
   ]
  },
  {
   "cell_type": "code",
   "execution_count": 81,
   "id": "9c43d674",
   "metadata": {},
   "outputs": [],
   "source": [
    "# split to Features and Target\n",
    "X=df.drop('Installs',axis=1)\n",
    "y=df['Installs']"
   ]
  },
  {
   "cell_type": "code",
   "execution_count": 83,
   "id": "2ace042d",
   "metadata": {},
   "outputs": [],
   "source": [
    "## split to Train and Test\n",
    "from sklearn.model_selection import train_test_split\n",
    "X_train,X_test,y_train,y_test = train_test_split(X,y,test_size=0.2 , random_state=110)"
   ]
  },
  {
   "cell_type": "markdown",
   "id": "e7765ec2",
   "metadata": {},
   "source": [
    "Since i have in my dataset Diffrenet Column Units I have to do the feature Scaling"
   ]
  },
  {
   "cell_type": "code",
   "execution_count": 84,
   "id": "68692e17",
   "metadata": {},
   "outputs": [],
   "source": [
    "# feature scaling\n",
    "from sklearn.preprocessing import StandardScaler\n",
    "scaler = StandardScaler()\n",
    "X_train_scaled = scaler.fit_transform(X_train)\n",
    "X_test_scaled = scaler.transform(X_test)\n"
   ]
  },
  {
   "cell_type": "code",
   "execution_count": 85,
   "id": "980268ef",
   "metadata": {},
   "outputs": [
    {
     "data": {
      "text/plain": [
       "LinearRegression()"
      ]
     },
     "execution_count": 85,
     "metadata": {},
     "output_type": "execute_result"
    }
   ],
   "source": [
    "# Linear regression\n",
    "from sklearn.linear_model import LinearRegression\n",
    "lr = LinearRegression()\n",
    "lr.fit(X_train_scaled,y_train)"
   ]
  },
  {
   "cell_type": "code",
   "execution_count": 86,
   "id": "90902566",
   "metadata": {},
   "outputs": [
    {
     "data": {
      "text/plain": [
       "15089585.606782733"
      ]
     },
     "execution_count": 86,
     "metadata": {},
     "output_type": "execute_result"
    }
   ],
   "source": [
    "lr.intercept_"
   ]
  },
  {
   "cell_type": "code",
   "execution_count": 93,
   "id": "d35636af",
   "metadata": {},
   "outputs": [
    {
     "data": {
      "text/plain": [
       "array([ 7.08923957e+05,  1.45405523e+06,  5.35809069e+07, -1.48427736e+05,\n",
       "       -7.44296995e+16, -8.44119240e+16, -6.84971287e+16, -1.42213863e+17,\n",
       "       -1.96842502e+17, -7.22633671e+16, -1.76749080e+17, -1.38191236e+17,\n",
       "       -1.12156301e+17, -1.15360645e+17, -7.37148305e+16, -3.70296096e+17,\n",
       "       -1.70118551e+17, -1.00350714e+17, -2.95746246e+17, -1.68637509e+17,\n",
       "       -8.80798092e+16, -8.62660077e+16, -1.77312188e+17, -1.07888440e+17,\n",
       "       -1.94590513e+17, -1.55888621e+17, -7.44296995e+16, -1.82561608e+17,\n",
       "       -1.68934902e+17, -1.86054189e+17, -1.50245102e+17, -1.56213531e+17,\n",
       "       -1.78989226e+17, -2.57411316e+17, -1.47506261e+17, -1.22774461e+17,\n",
       "       -8.18724128e+16, -2.52104405e+19, -2.52104405e+19])"
      ]
     },
     "execution_count": 93,
     "metadata": {},
     "output_type": "execute_result"
    }
   ],
   "source": [
    "lr.coef_"
   ]
  },
  {
   "cell_type": "markdown",
   "id": "c80052a7",
   "metadata": {},
   "source": [
    "The coefficients represent associations, not causations. Most associations feature  rating"
   ]
  },
  {
   "cell_type": "code",
   "execution_count": 89,
   "id": "56555b07",
   "metadata": {},
   "outputs": [
    {
     "data": {
      "text/plain": [
       "0.4491677209750744"
      ]
     },
     "execution_count": 89,
     "metadata": {},
     "output_type": "execute_result"
    }
   ],
   "source": [
    "## Model Evalution\n",
    "lr.score(X_train_scaled,y_train)"
   ]
  },
  {
   "cell_type": "code",
   "execution_count": 90,
   "id": "15de953f",
   "metadata": {},
   "outputs": [
    {
     "data": {
      "text/plain": [
       "0.36511929980226143"
      ]
     },
     "execution_count": 90,
     "metadata": {},
     "output_type": "execute_result"
    }
   ],
   "source": [
    "lr.score(X_test_scaled,y_test)"
   ]
  },
  {
   "cell_type": "markdown",
   "id": "d616e8d5",
   "metadata": {},
   "source": [
    "I think the model is underfitting . I have to Increase the amount of training data examples and select fewer  feature combinations."
   ]
  },
  {
   "cell_type": "markdown",
   "id": "4328d2f6",
   "metadata": {},
   "source": [
    "## Thank You"
   ]
  }
 ],
 "metadata": {
  "kernelspec": {
   "display_name": "Python 3 (ipykernel)",
   "language": "python",
   "name": "python3"
  },
  "language_info": {
   "codemirror_mode": {
    "name": "ipython",
    "version": 3
   },
   "file_extension": ".py",
   "mimetype": "text/x-python",
   "name": "python",
   "nbconvert_exporter": "python",
   "pygments_lexer": "ipython3",
   "version": "3.9.7"
  }
 },
 "nbformat": 4,
 "nbformat_minor": 5
}
